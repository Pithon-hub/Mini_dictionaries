{
  "nbformat": 4,
  "nbformat_minor": 0,
  "metadata": {
    "colab": {
      "provenance": [],
      "authorship_tag": "ABX9TyOrrnu0nrA7jNMQ0NDTxijZ",
      "include_colab_link": true
    },
    "kernelspec": {
      "name": "python3",
      "display_name": "Python 3"
    },
    "language_info": {
      "name": "python"
    }
  },
  "cells": [
    {
      "cell_type": "markdown",
      "metadata": {
        "id": "view-in-github",
        "colab_type": "text"
      },
      "source": [
        "<a href=\"https://colab.research.google.com/github/Pithon-hub/Mini_dictionaries/blob/main/Mini_Dictionaries.ipynb\" target=\"_parent\"><img src=\"https://colab.research.google.com/assets/colab-badge.svg\" alt=\"Open In Colab\"/></a>"
      ]
    },
    {
      "cell_type": "code",
      "source": [
        "# 1. Create a dictionary called student with:\n",
        "# Keys: \"name\", \"age\", \"grade\"\n",
        "# Values: \"Alice\", 14, \"B\"\n",
        "student = {\"name\": \"Alice\", \"age\":14, \"grade\":\"B\"}\n",
        "print(student)"
      ],
      "metadata": {
        "id": "giokjFGXzUgI",
        "colab": {
          "base_uri": "https://localhost:8080/"
        },
        "outputId": "15976428-8bf7-4ec6-dc50-40a372bb3ada"
      },
      "execution_count": null,
      "outputs": [
        {
          "output_type": "stream",
          "name": "stdout",
          "text": [
            "{'name': 'Alice', 'age': 14, 'grade': 'B'}\n"
          ]
        }
      ]
    },
    {
      "cell_type": "code",
      "source": [
        "# 1.1. Access and print the student's name from the dictionary.\n",
        "print(student[\"name\"])"
      ],
      "metadata": {
        "colab": {
          "base_uri": "https://localhost:8080/"
        },
        "id": "d8B-Yp907AcA",
        "outputId": "5381b402-a29b-4a81-c41a-c9915c456fdc"
      },
      "execution_count": null,
      "outputs": [
        {
          "output_type": "stream",
          "name": "stdout",
          "text": [
            "Alice\n"
          ]
        }
      ]
    },
    {
      "cell_type": "code",
      "source": [
        "# 1.2. Change the student's grade to \"A\".\n",
        "student[\"grade\"] = \"A\"\n",
        "print(student)"
      ],
      "metadata": {
        "id": "BFI6BsC68ic4",
        "colab": {
          "base_uri": "https://localhost:8080/"
        },
        "outputId": "97b46947-0ddf-4bf6-904c-0bf50d6f4921"
      },
      "execution_count": null,
      "outputs": [
        {
          "output_type": "stream",
          "name": "stdout",
          "text": [
            "{'name': 'Alice', 'age': 14, 'grade': 'A'}\n"
          ]
        }
      ]
    },
    {
      "cell_type": "code",
      "source": [
        "# 1.3. Add a new key called \"school\" with the value \"Greenwood High\".\n",
        "student.update({\"school\":\"Greenwood High\"})\n",
        "print(student)"
      ],
      "metadata": {
        "colab": {
          "base_uri": "https://localhost:8080/"
        },
        "id": "uanhxODMB2PE",
        "outputId": "33675b71-c36b-4101-a38b-cfbb70ca98a5"
      },
      "execution_count": null,
      "outputs": [
        {
          "output_type": "stream",
          "name": "stdout",
          "text": [
            "{'name': 'Alice', 'age': 14, 'grade': 'A', 'school': 'Greenwood High'}\n"
          ]
        }
      ]
    },
    {
      "cell_type": "code",
      "source": [
        "# 1.4. Delete the \"age\" key from the dictionary\n",
        "del student[\"age\"]\n",
        "print(student)"
      ],
      "metadata": {
        "colab": {
          "base_uri": "https://localhost:8080/"
        },
        "id": "qdY8mA22C8tg",
        "outputId": "bb294d63-44bb-4ea1-a09c-4540c2250121"
      },
      "execution_count": null,
      "outputs": [
        {
          "output_type": "stream",
          "name": "stdout",
          "text": [
            "{'name': 'Alice', 'grade': 'A', 'school': 'Greenwood High'}\n"
          ]
        }
      ]
    },
    {
      "cell_type": "code",
      "source": [
        "# 2. Loop through the following dictionary and print each key and value:\n",
        "person = {\"name\": \"Bob\", \"age\": 30, \"city\": \"Nairobi\"}\n",
        "for keys, values in person.items():\n",
        "  print(keys,values)"
      ],
      "metadata": {
        "colab": {
          "base_uri": "https://localhost:8080/"
        },
        "id": "k9Bp3FeEDUoz",
        "outputId": "741d5c5c-f716-4822-bb0c-a5c5c8a7a138"
      },
      "execution_count": null,
      "outputs": [
        {
          "output_type": "stream",
          "name": "stdout",
          "text": [
            "name Bob\n",
            "age 30\n",
            "city Nairobi\n"
          ]
        }
      ]
    },
    {
      "cell_type": "code",
      "source": [
        "# 2.1. Loop through and print only the keys from the dictionary above.\n",
        "for key in person.keys():\n",
        "  print(key)"
      ],
      "metadata": {
        "colab": {
          "base_uri": "https://localhost:8080/"
        },
        "id": "bAcsn0W8D7Vu",
        "outputId": "c83788a6-5115-458d-f75f-4c48c5c27b1b"
      },
      "execution_count": null,
      "outputs": [
        {
          "output_type": "stream",
          "name": "stdout",
          "text": [
            "name\n",
            "age\n",
            "city\n"
          ]
        }
      ]
    },
    {
      "cell_type": "code",
      "source": [
        "# 2.2. Loop through and print only the values.\n",
        "for value in person.values():\n",
        "  print(value)"
      ],
      "metadata": {
        "colab": {
          "base_uri": "https://localhost:8080/"
        },
        "id": "oao8h1xvEJzl",
        "outputId": "7b42aa26-7c30-4d44-e50a-f844b0bf33c1"
      },
      "execution_count": null,
      "outputs": [
        {
          "output_type": "stream",
          "name": "stdout",
          "text": [
            "Bob\n",
            "30\n",
            "Nairobi\n"
          ]
        }
      ]
    },
    {
      "cell_type": "code",
      "source": [
        "# 2.3. Use .get() to retrieve the value of a key called \"email\" from person. If it doesn’t exist, return \"Not provided\".\n",
        "person.get(\"email\")\n",
        "if person.get(\"email\") == None:\n",
        "  print(\"Not provided\")"
      ],
      "metadata": {
        "colab": {
          "base_uri": "https://localhost:8080/"
        },
        "id": "3XVn8bPnETSo",
        "outputId": "581fa966-d51d-4602-a639-8146fb20b743"
      },
      "execution_count": null,
      "outputs": [
        {
          "output_type": "stream",
          "name": "stdout",
          "text": [
            "Not provided\n"
          ]
        }
      ]
    },
    {
      "cell_type": "code",
      "source": [
        "# 2.4. Check if the key \"city\" exists in the dictionary.\n",
        "if \"city\" in person.keys():\n",
        "  print(\"City exixts\")\n",
        "else:\n",
        "  print(\"City does not exixt\")"
      ],
      "metadata": {
        "colab": {
          "base_uri": "https://localhost:8080/"
        },
        "id": "FNZ7COkgEx7_",
        "outputId": "aced7eae-0f2f-4ec0-9dc2-43b1a977a00e"
      },
      "execution_count": null,
      "outputs": [
        {
          "output_type": "stream",
          "name": "stdout",
          "text": [
            "City exixts\n"
          ]
        }
      ]
    },
    {
      "cell_type": "code",
      "source": [
        "# 2.5. Use .update() to add or modify multiple values:\n",
        "# Update \"city\" to \"Mombasa\" and add \"email\": \"bob@example.com\"\n",
        "person.update({\"city\":\"Mombasa\",\"email\":\"bob@example.com\"})\n",
        "print(person)"
      ],
      "metadata": {
        "colab": {
          "base_uri": "https://localhost:8080/"
        },
        "id": "bnVYgnICFgmG",
        "outputId": "8d393c0b-2061-43bb-85d1-d06f58a1ef20"
      },
      "execution_count": null,
      "outputs": [
        {
          "output_type": "stream",
          "name": "stdout",
          "text": [
            "{'name': 'Bob', 'age': 30, 'city': 'Mombasa', 'email': 'bob@example.com'}\n"
          ]
        }
      ]
    },
    {
      "cell_type": "code",
      "source": [
        "# 3. Create a list of 3 students, each represented as a dictionary:\n",
        "# Each dictionary should have keys: \"name\", \"age\", \"grade\"\n",
        "students = [\n",
        "    {\"name\":\"Pithon\",\"age\":21,\"grade\":\"90\"},\n",
        "     {\"name\":\"Paul\",\"age\":20,\"grade\":\"80\"},\n",
        "     {\"name\":\"David\",\"age\":19,\"grade\":\"85\"}]\n",
        "students"
      ],
      "metadata": {
        "colab": {
          "base_uri": "https://localhost:8080/"
        },
        "id": "JgQ2RvpPGPir",
        "outputId": "7fc2f137-20e3-43a7-9b18-d1022368a5c2"
      },
      "execution_count": 11,
      "outputs": [
        {
          "output_type": "execute_result",
          "data": {
            "text/plain": [
              "[{'name': 'Pithon', 'age': 21, 'grade': '90'},\n",
              " {'name': 'Paul', 'age': 20, 'grade': '80'},\n",
              " {'name': 'David', 'age': 19, 'grade': '85'}]"
            ]
          },
          "metadata": {},
          "execution_count": 11
        }
      ]
    },
    {
      "cell_type": "code",
      "source": [
        "# 3.1. Loop through the list and print the name and grade of each student.\n",
        "for student in students:\n",
        "  print(student[\"name\"], student[\"grade\"])"
      ],
      "metadata": {
        "id": "Pwag5cMiYvon",
        "colab": {
          "base_uri": "https://localhost:8080/"
        },
        "outputId": "9e68b28b-6ac3-4267-8e5e-b5a8d5114dcb"
      },
      "execution_count": 12,
      "outputs": [
        {
          "output_type": "stream",
          "name": "stdout",
          "text": [
            "Pithon 90\n",
            "Paul 80\n",
            "David 85\n"
          ]
        }
      ]
    },
    {
      "cell_type": "code",
      "source": [
        "# 3.2. Write a loop to calculate the average grade (assuming grades are numbers).\n",
        "total = sum([int(student[\"grade\"]) for student in students])\n",
        "average = total/len(students)\n",
        "print(average)"
      ],
      "metadata": {
        "colab": {
          "base_uri": "https://localhost:8080/"
        },
        "id": "xrXHRqBngPfg",
        "outputId": "833b037d-6d38-4577-b70d-4f8e96e5f51f"
      },
      "execution_count": 31,
      "outputs": [
        {
          "output_type": "stream",
          "name": "stdout",
          "text": [
            "85.0\n"
          ]
        }
      ]
    },
    {
      "cell_type": "code",
      "source": [
        "# 4. Create a dictionary to count how many times each word appears in this list:\n",
        "# Output should be:\n",
        "# {\"apple\": 3, \"banana\": 2, \"cherry\": 1}\n",
        "words = [\"apple\", \"banana\", \"apple\", \"cherry\", \"banana\", \"apple\"]\n",
        "word_count = {}\n",
        "for word in words:\n",
        "  if word in word_count:\n",
        "    word_count[word] += 1\n",
        "  else:\n",
        "    word_count[word] = 1\n",
        "\n",
        "print(word_count)"
      ],
      "metadata": {
        "colab": {
          "base_uri": "https://localhost:8080/"
        },
        "id": "NwOTMcK5hcqV",
        "outputId": "caa2c8f1-b9b3-4f2d-e995-4554efe01829"
      },
      "execution_count": 34,
      "outputs": [
        {
          "output_type": "stream",
          "name": "stdout",
          "text": [
            "{'apple': 3, 'banana': 2, 'cherry': 1}\n"
          ]
        }
      ]
    },
    {
      "cell_type": "code",
      "source": [
        "# 5. Build a simple phonebook:\n",
        "# Ask the user to enter names and phone numbers\n",
        "# Store them in a dictionary\n",
        "# Allow the user to look up numbers by name\n",
        "phonebook = {}\n",
        "while True:\n",
        "    operation = input(\"Choose operation (1 - Add Contact, 2 - Search by name, 3 - Exit): \")\n",
        "\n",
        "    if operation == \"1\":\n",
        "        print(\"Enter name and phone number\")\n",
        "        name = input(\"Enter the name: \")\n",
        "        contact = input(\"Enter phone number: \")\n",
        "        phonebook[name] = contact\n",
        "\n",
        "    elif operation == \"2\":\n",
        "      search_name = input(\"Enter a name you want to search: \")\n",
        "      if search_name in phonebook:\n",
        "        print(f\"{search_name}'s phone number is {phonebook[search_name]}\")\n",
        "      else:\n",
        "        print(\"Name not found.\")\n",
        "\n",
        "\n",
        "    elif operation == \"3\":\n",
        "        print(\"Exiting program...\")\n",
        "        break\n",
        "\n",
        "    else:\n",
        "        print(\"Invalid choice. Please enter 1, 2, or 3.\")\n",
        "\n",
        "print(phonebook)"
      ],
      "metadata": {
        "colab": {
          "base_uri": "https://localhost:8080/"
        },
        "id": "Lc1cJ52UnKvb",
        "outputId": "182ba63e-94ce-4bc0-80b9-3c30d7881b36"
      },
      "execution_count": 45,
      "outputs": [
        {
          "output_type": "stream",
          "name": "stdout",
          "text": [
            "Choose operation (1 - Add Contact, 2 - Search by name, 3 - Exit): 1\n",
            "Enter name and phone number\n",
            "Enter the name: yug\n",
            "Enter phone number: 76788\n",
            "Choose operation (1 - Add Contact, 2 - Search by name, 3 - Exit): 1\n",
            "Enter name and phone number\n",
            "Enter the name: gfjhj\n",
            "Enter phone number: 8897\n",
            "Choose operation (1 - Add Contact, 2 - Search by name, 3 - Exit): 1\n",
            "Enter name and phone number\n",
            "Enter the name: ffffhj\n",
            "Enter phone number: 455788\n",
            "Choose operation (1 - Add Contact, 2 - Search by name, 3 - Exit): 2\n",
            "Enter a name you want to search: yug\n",
            "yug's phone number is 76788\n",
            "Choose operation (1 - Add Contact, 2 - Search by name, 3 - Exit): 3\n",
            "Exiting program...\n",
            "{'yug': '76788', 'gfjhj': '8897', 'ffffhj': '455788'}\n"
          ]
        }
      ]
    },
    {
      "cell_type": "code",
      "source": [
        "print(phonebook)"
      ],
      "metadata": {
        "colab": {
          "base_uri": "https://localhost:8080/"
        },
        "id": "1VKboMYwqJHy",
        "outputId": "8c6155b5-ca1b-479e-d83a-63831e9892a2"
      },
      "execution_count": 41,
      "outputs": [
        {
          "output_type": "stream",
          "name": "stdout",
          "text": [
            "{'Pithon': '0788158584', 'Victor': '0713866142', 'fdhfd': '43545', 'paul': '67473647'}\n"
          ]
        }
      ]
    },
    {
      "cell_type": "code",
      "source": [],
      "metadata": {
        "id": "MRp_w8mgshPg"
      },
      "execution_count": null,
      "outputs": []
    }
  ]
}